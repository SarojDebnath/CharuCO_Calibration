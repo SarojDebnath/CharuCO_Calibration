{
 "cells": [
  {
   "cell_type": "code",
   "execution_count": 1,
   "id": "136b97a5-99bf-4d4c-a0b7-54055aaef239",
   "metadata": {},
   "outputs": [],
   "source": [
    "import os\n",
    "import numpy as np\n",
    "import cv2\n",
    "\n",
    "# ------------------------------\n",
    "# ENTER YOUR PARAMETERS HERE:\n",
    "ARUCO_DICT = cv2.aruco.DICT_6X6_250\n",
    "SQUARES_VERTICALLY = 7\n",
    "SQUARES_HORIZONTALLY = 5\n",
    "SQUARE_LENGTH = 0.04\n",
    "MARKER_LENGTH = 0.02\n",
    "LENGTH_PX = 640   # total length of the page in pixels\n",
    "MARGIN_PX = 20    # size of the margin in pixels\n",
    "SAVE_NAME = 'ChArUco_Marker.png'\n",
    "# ------------------------------\n",
    "\n",
    "def create_and_save_new_board():\n",
    "    dictionary = cv2.aruco.getPredefinedDictionary(ARUCO_DICT)\n",
    "    board = cv2.aruco.CharucoBoard((SQUARES_VERTICALLY, SQUARES_HORIZONTALLY), SQUARE_LENGTH, MARKER_LENGTH, dictionary)\n",
    "    size_ratio = SQUARES_HORIZONTALLY / SQUARES_VERTICALLY\n",
    "    img = cv2.aruco.CharucoBoard.generateImage(board, (LENGTH_PX, int(LENGTH_PX*size_ratio)), marginSize=MARGIN_PX)\n",
    "    #cv2.imshow(\"img\", img)\n",
    "    #cv2.waitKey(2000)\n",
    "    cv2.imwrite(SAVE_NAME, img)\n",
    "\n",
    "create_and_save_new_board()"
   ]
  },
  {
   "cell_type": "code",
   "execution_count": 2,
   "id": "c9e93da9-ac61-42ed-8471-4dab857d2605",
   "metadata": {},
   "outputs": [],
   "source": [
    "ARUCO_DICT = cv2.aruco.DICT_6X6_250\n",
    "SQUARES_VERTICALLY = 7\n",
    "SQUARES_HORIZONTALLY = 5\n",
    "SQUARE_LENGTH = 0.04\n",
    "MARKER_LENGTH = 0.02\n",
    "# ...\n",
    "PATH_TO_YOUR_IMAGES = '/images'\n",
    "# ------------------------------\n",
    "def get_calibration_parameters(img_dir):\n",
    "    # Define the aruco dictionary, charuco board and detector\n",
    "    dictionary = cv2.aruco.getPredefinedDictionary(ARUCO_DICT)\n",
    "    board = cv2.aruco.CharucoBoard((SQUARES_VERTICALLY, SQUARES_HORIZONTALLY), SQUARE_LENGTH, MARKER_LENGTH, dictionary)\n",
    "    params = cv2.aruco.DetectorParameters()\n",
    "    detector = cv2.aruco.ArucoDetector(dictionary, params)\n",
    "    \n",
    "    # Load images from directory\n",
    "    image_files = [os.path.join(img_dir, f) for f in os.listdir(img_dir) if f.endswith(\".bmp\")]\n",
    "    all_charuco_ids = []\n",
    "    all_charuco_corners = []\n",
    "\n",
    "    # Loop over images and extraction of corners\n",
    "    for image_file in image_files:\n",
    "        image = cv2.imread(image_file)\n",
    "        image = cv2.cvtColor(image, cv2.COLOR_BGR2GRAY)\n",
    "        imgSize = image.shape\n",
    "        image_copy = image.copy()\n",
    "        marker_corners, marker_ids, rejectedCandidates = detector.detectMarkers(image)\n",
    "        \n",
    "        if len(marker_ids) > 0: # If at least one marker is detected\n",
    "            # cv2.aruco.drawDetectedMarkers(image_copy, marker_corners, marker_ids)\n",
    "            ret, charucoCorners, charucoIds = cv2.aruco.interpolateCornersCharuco(marker_corners, marker_ids, image, board)\n",
    "\n",
    "            if charucoIds is not None and len(charucoCorners) > 3:\n",
    "                all_charuco_corners.append(charucoCorners)\n",
    "                all_charuco_ids.append(charucoIds)\n",
    "    \n",
    "    # Calibrate camera with extracted information\n",
    "    result, mtx, dist, rvecs, tvecs = cv2.aruco.calibrateCameraCharuco(all_charuco_corners, all_charuco_ids, board, imgSize, None, None)\n",
    "    return mtx, dist"
   ]
  },
  {
   "cell_type": "code",
   "execution_count": null,
   "id": "af6338ff-b61a-4596-b6c1-e81fba294f8f",
   "metadata": {},
   "outputs": [],
   "source": [
    "SENSOR = 'monochrome'\n",
    "LENS = 'kowa_f12mm_F1.8'\n",
    "OUTPUT_JSON = 'calibration.json'\n",
    "\n",
    "mtx, dist = get_calibration_parameters(img_dir='./images/')\n",
    "data = {\"sensor\": SENSOR, \"lens\": LENS, \"mtx\": mtx.tolist(), \"dist\": dist.tolist()}\n",
    "\n",
    "with open(OUTPUT_JSON, 'w') as json_file:\n",
    "    json.dump(data, json_file, indent=4)\n",
    "\n",
    "print(f'Data has been saved to {OUTPUT_JSON}')"
   ]
  },
  {
   "cell_type": "code",
   "execution_count": null,
   "id": "e45a1656-93f6-4cd9-81b8-634428ee9ccd",
   "metadata": {},
   "outputs": [],
   "source": [
    "json_file_path = './calibration.json'\n",
    "\n",
    "with open(json_file_path, 'r') as file: # Read the JSON file\n",
    "    json_data = json.load(file)\n",
    "\n",
    "mtx = np.array(json_data['mtx'])\n",
    "dst = np.array(json_data['dist'])"
   ]
  },
  {
   "cell_type": "code",
   "execution_count": null,
   "id": "43eb27b5-f6c4-46ad-8746-f8b0e19e0bf5",
   "metadata": {},
   "outputs": [],
   "source": [
    "image_path = './charuco/charuco_WD441.bmp'\n",
    "image = cv2.imread(image_path)\n",
    "image = cv2.cvtColor(image, cv2.COLOR_BGR2GRAY)\n",
    "\n",
    "h,  w = image.shape[:2]\n",
    "newcameramtx, roi = cv2.getOptimalNewCameraMatrix(mtx, dst, (w,h), 1, (w,h))\n",
    "image = cv2.undistort(image, mtx, dst, None, newcameramtx)"
   ]
  },
  {
   "cell_type": "code",
   "execution_count": null,
   "id": "c78c2ff1-5e3c-4318-b124-3462731edb10",
   "metadata": {},
   "outputs": [],
   "source": [
    "all_charuco_ids = []\n",
    "all_charuco_corners = []\n",
    "\n",
    "dictionary = cv2.aruco.getPredefinedDictionary(ARUCO_DICT)\n",
    "board = cv2.aruco.CharucoBoard((SQUARES_VERTICALLY, SQUARES_HORIZONTALLY), SQUARE_LENGTH, MARKER_LENGTH, dictionary)\n",
    "params = cv2.aruco.DetectorParameters()\n",
    "detector = cv2.aruco.ArucoDetector(dictionary, params)\n",
    "\n",
    "marker_corners, marker_ids, rejectedCandidates = detector.detectMarkers(image)\n",
    "if marker_ids is not None and len(marker_ids) > 0: # If at least one marker is detected\n",
    "    # cv2.aruco.drawDetectedMarkers(image_copy, marker_corners, marker_ids)\n",
    "    ret, charucoCorners, charucoIds = cv2.aruco.interpolateCornersCharuco(marker_corners, marker_ids, image, board)\n",
    "    if charucoCorners is not None and charucoIds is not None and len(charucoCorners) > 3:\n",
    "        all_charuco_corners.append(charucoCorners)\n",
    "        all_charuco_ids.append(charucoIds)\n",
    "\n",
    "    retval, rvec, tvec = cv2.aruco.estimatePoseCharucoBoard(np.array(all_charuco_corners)[0], np.array(all_charuco_ids)[0], board, np.array(mtx), np.array(dst), np.empty(1), np.empty(1))\n",
    "\n",
    "    Zx, Zy, Zz = tvec[0][0], tvec[1][0], tvec[2][0]\n",
    "    fx, fy = mtx[0][0], mtx[1][1]\n",
    "\n",
    "    print(f'Zz = {Zz}\\nfx = {fx}')"
   ]
  },
  {
   "cell_type": "code",
   "execution_count": null,
   "id": "ce1a66eb-5c05-4f6f-8f92-85182509b3a0",
   "metadata": {},
   "outputs": [],
   "source": [
    "def perspective_function(x, Z, f): \n",
    "    return x*Z/f\n",
    "\n",
    "nb_pixels = 192\n",
    "print(perspective_function(nb_pixels, Zz, fx))"
   ]
  }
 ],
 "metadata": {
  "kernelspec": {
   "display_name": "Python 3 (ipykernel)",
   "language": "python",
   "name": "python3"
  },
  "language_info": {
   "codemirror_mode": {
    "name": "ipython",
    "version": 3
   },
   "file_extension": ".py",
   "mimetype": "text/x-python",
   "name": "python",
   "nbconvert_exporter": "python",
   "pygments_lexer": "ipython3",
   "version": "3.9.19"
  }
 },
 "nbformat": 4,
 "nbformat_minor": 5
}
