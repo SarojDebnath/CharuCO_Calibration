{
 "cells": [
  {
   "cell_type": "code",
   "execution_count": 5,
   "id": "3fcd8cd7-aafa-4d48-9656-da6dc20e89cb",
   "metadata": {},
   "outputs": [
    {
     "ename": "AttributeError",
     "evalue": "module 'cv2.aruco' has no attribute 'Dictionary_get'",
     "output_type": "error",
     "traceback": [
      "\u001b[1;31m---------------------------------------------------------------------------\u001b[0m",
      "\u001b[1;31mAttributeError\u001b[0m                            Traceback (most recent call last)",
      "Cell \u001b[1;32mIn[5], line 7\u001b[0m\n\u001b[0;32m      3\u001b[0m \u001b[38;5;28;01mimport\u001b[39;00m \u001b[38;5;21;01mcv2\u001b[39;00m\n\u001b[0;32m      5\u001b[0m \u001b[38;5;66;03m# ------------------------------\u001b[39;00m\n\u001b[0;32m      6\u001b[0m \u001b[38;5;66;03m# ENTER YOUR PARAMETERS HERE:\u001b[39;00m\n\u001b[1;32m----> 7\u001b[0m ARUCO_DICT \u001b[38;5;241m=\u001b[39m \u001b[43maruco\u001b[49m\u001b[38;5;241;43m.\u001b[39;49m\u001b[43mDictionary_get\u001b[49m(aruco\u001b[38;5;241m.\u001b[39mDICT_6X6_250)\n\u001b[0;32m      8\u001b[0m SQUARES_VERTICALLY \u001b[38;5;241m=\u001b[39m \u001b[38;5;241m7\u001b[39m\n\u001b[0;32m      9\u001b[0m SQUARES_HORIZONTALLY \u001b[38;5;241m=\u001b[39m \u001b[38;5;241m5\u001b[39m\n",
      "\u001b[1;31mAttributeError\u001b[0m: module 'cv2.aruco' has no attribute 'Dictionary_get'"
     ]
    }
   ],
   "source": [
    "import os\n",
    "import numpy as np\n",
    "import cv2\n",
    "\n",
    "# ------------------------------\n",
    "# ENTER YOUR PARAMETERS HERE:\n",
    "ARUCO_DICT = aruco.Dictionary_get(aruco.DICT_6X6_250)\n",
    "SQUARES_VERTICALLY = 7\n",
    "SQUARES_HORIZONTALLY = 5\n",
    "SQUARE_LENGTH = 0.03\n",
    "MARKER_LENGTH = 0.015\n",
    "LENGTH_PX = 640   # total length of the page in pixels\n",
    "MARGIN_PX = 20    # size of the margin in pixels\n",
    "SAVE_NAME = 'ChArUco_Marker.png'\n",
    "# ------------------------------\n",
    "\n",
    "def create_and_save_new_board():\n",
    "    dictionary = cv2.aruco.getPredefinedDictionary(ARUCO_DICT)\n",
    "    board = cv2.aruco.CharucoBoard((SQUARES_VERTICALLY, SQUARES_HORIZONTALLY), SQUARE_LENGTH, MARKER_LENGTH, dictionary)\n",
    "    size_ratio = SQUARES_HORIZONTALLY / SQUARES_VERTICALLY\n",
    "    img = cv2.aruco.CharucoBoard.generateImage(board, (LENGTH_PX, int(LENGTH_PX*size_ratio)), marginSize=MARGIN_PX)\n",
    "    cv2.imshow(\"img\", img)\n",
    "    cv2.waitKey(2000)\n",
    "    cv2.imwrite(SAVE_NAME, img)\n",
    "\n",
    "create_and_save_new_board()"
   ]
  },
  {
   "cell_type": "code",
   "execution_count": null,
   "id": "c39e1fc3-0f70-490a-ad84-730bc803292f",
   "metadata": {},
   "outputs": [],
   "source": []
  },
  {
   "cell_type": "code",
   "execution_count": null,
   "id": "3287abe4-7844-4d86-aea3-235256b312ab",
   "metadata": {},
   "outputs": [],
   "source": []
  }
 ],
 "metadata": {
  "kernelspec": {
   "display_name": "Python 3 (ipykernel)",
   "language": "python",
   "name": "python3"
  },
  "language_info": {
   "codemirror_mode": {
    "name": "ipython",
    "version": 3
   },
   "file_extension": ".py",
   "mimetype": "text/x-python",
   "name": "python",
   "nbconvert_exporter": "python",
   "pygments_lexer": "ipython3",
   "version": "3.9.13"
  }
 },
 "nbformat": 4,
 "nbformat_minor": 5
}
